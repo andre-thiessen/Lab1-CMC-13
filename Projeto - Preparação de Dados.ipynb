{
 "cells": [
  {
   "cell_type": "markdown",
   "id": "8507236e",
   "metadata": {},
   "source": [
    "# Projeto Aprendizado de Máquina\n",
    "\n",
    "## CMC-13 Introdução a Ciência de Dados\n",
    "## Equipe:\n",
    "### André Luiz de Melo Thiessen\n",
    "### Nikollas da Silva Antes\n",
    "### Pedro Anacleto Martins Senna de Oliveira"
   ]
  },
  {
   "cell_type": "markdown",
   "id": "23581901",
   "metadata": {},
   "source": [
    "## Importando bibliotecas"
   ]
  },
  {
   "cell_type": "code",
   "execution_count": 83,
   "id": "9ab1cb93",
   "metadata": {},
   "outputs": [],
   "source": [
    "#Importando as bibliotecas necessárias\n",
    "import pandas as pd\n",
    "import numpy as np\n",
    "from datetime import datetime\n",
    "from datetime import date"
   ]
  },
  {
   "cell_type": "markdown",
   "id": "ad214f58",
   "metadata": {},
   "source": [
    "## Importando os datasets"
   ]
  },
  {
   "cell_type": "code",
   "execution_count": 84,
   "id": "603e79b6",
   "metadata": {},
   "outputs": [],
   "source": [
    "#Importando as bases de dados\n",
    "movies = pd.read_csv(\"movies.csv\", on_bad_lines='skip', sep = ';')\n",
    "ratings = pd.read_csv(\"ratings.csv\", sep = ';')\n",
    "users = pd.read_csv(\"users.csv\")"
   ]
  },
  {
   "cell_type": "markdown",
   "id": "0d5673d6",
   "metadata": {},
   "source": [
    "## Data Cleaning\n",
    "- Primeiramente, foi verificado a existência de valores nulos (dados faltantes)"
   ]
  },
  {
   "cell_type": "code",
   "execution_count": 85,
   "id": "f5fc56f2",
   "metadata": {},
   "outputs": [
    {
     "name": "stdout",
     "output_type": "stream",
     "text": [
      "False\n",
      "False\n",
      "False\n"
     ]
    }
   ],
   "source": [
    "# Verificando a existência de valores nulos (dados faltantes)\n",
    "print(movies.isnull().values.any())\n",
    "print(ratings.isnull().values.any())\n",
    "print(users.isnull().values.any())"
   ]
  },
  {
   "cell_type": "markdown",
   "id": "b7e44696",
   "metadata": {},
   "source": [
    "- Depois foram apagadas as colunas que julgou-se impertinentes para o aprendizado em questão\n",
    "    - Title, Timestamp, Zip-code e name: irrelevantes\n",
    "    - Genres dos movies: Deixaria a árvore muito grande, optamos por retirar tal atributo"
   ]
  },
  {
   "cell_type": "code",
   "execution_count": 86,
   "id": "26eb6da6",
   "metadata": {},
   "outputs": [],
   "source": [
    "#Apagando as colunas irrelevantes\n",
    "movies = movies.drop(columns='Title')\n",
    "ratings = ratings.drop(columns='Timestamp')\n",
    "users = users.drop(columns='Zip-code')\n",
    "users = users.drop(columns='name')\n",
    "movies = movies.drop(columns='Genres')"
   ]
  },
  {
   "cell_type": "markdown",
   "id": "e0611871",
   "metadata": {},
   "source": [
    "## Transformações de Dados\n",
    "\n",
    "- Foi alterado a data de nascimento (birthday) para o padrão proposto no lab, agrupando em idades"
   ]
  },
  {
   "cell_type": "code",
   "execution_count": 87,
   "id": "e6f8eeb8",
   "metadata": {},
   "outputs": [],
   "source": [
    "format_string = \"%m/%d/%Y\"\n",
    "def calculateAge(birthDate): \n",
    "    today = date.today() \n",
    "    age = today.year - birthDate.year - ((today.month, today.day) < (birthDate.month, birthDate.day))\n",
    "    return age\n",
    "\n",
    "for i in users.index:\n",
    "    [month, day, year] = users['birthday'][i].split('/')\n",
    "    if(day == '0'):\n",
    "        users.loc[i, 'birthday'] = month+'/'+'1/'+year\n",
    "    date = datetime.strptime(users['birthday'][i], format_string)\n",
    "    age = calculateAge(date)\n",
    "    users.loc[i, 'birthday'] = age\n",
    "    \n",
    "    #Agrupando os usuários em \n",
    "for i in users.index:\n",
    "    if(int(users['birthday'][i])<18):\n",
    "        users.loc[i, 'birthday'] = '1'\n",
    "    elif (int(users['birthday'][i])<24):\n",
    "        users.loc[i, 'birthday'] = '18'\n",
    "    elif (int(users['birthday'][i])<35):\n",
    "        users.loc[i, 'birthday'] = '25'\n",
    "    elif (int(users['birthday'][i])<45):\n",
    "        users.loc[i, 'birthday'] = '35'\n",
    "    elif (int(users['birthday'][i])<50):\n",
    "        users.loc[i, 'birthday'] = '45'\n",
    "    elif (int(users['birthday'][i])<55):\n",
    "        users.loc[i, 'birthday'] = '50'\n",
    "    else:\n",
    "        users.loc[i, 'birthday'] = '56'\n"
   ]
  },
  {
   "cell_type": "markdown",
   "id": "b3b55911",
   "metadata": {},
   "source": [
    "- Além disso, fez-se um merge das tabelas para facilitar o trabalho futuro\n",
    "- Nomeou-se o novo dataframe de df"
   ]
  },
  {
   "cell_type": "code",
   "execution_count": 88,
   "id": "192947d9",
   "metadata": {},
   "outputs": [
    {
     "data": {
      "text/html": [
       "<div>\n",
       "<style scoped>\n",
       "    .dataframe tbody tr th:only-of-type {\n",
       "        vertical-align: middle;\n",
       "    }\n",
       "\n",
       "    .dataframe tbody tr th {\n",
       "        vertical-align: top;\n",
       "    }\n",
       "\n",
       "    .dataframe thead th {\n",
       "        text-align: right;\n",
       "    }\n",
       "</style>\n",
       "<table border=\"1\" class=\"dataframe\">\n",
       "  <thead>\n",
       "    <tr style=\"text-align: right;\">\n",
       "      <th></th>\n",
       "      <th>MovieID</th>\n",
       "      <th>Rating</th>\n",
       "      <th>Gender</th>\n",
       "      <th>Occupation</th>\n",
       "      <th>birthday</th>\n",
       "    </tr>\n",
       "  </thead>\n",
       "  <tbody>\n",
       "    <tr>\n",
       "      <th>0</th>\n",
       "      <td>1193</td>\n",
       "      <td>5</td>\n",
       "      <td>F</td>\n",
       "      <td>10</td>\n",
       "      <td>1</td>\n",
       "    </tr>\n",
       "    <tr>\n",
       "      <th>1</th>\n",
       "      <td>1193</td>\n",
       "      <td>5</td>\n",
       "      <td>M</td>\n",
       "      <td>16</td>\n",
       "      <td>56</td>\n",
       "    </tr>\n",
       "    <tr>\n",
       "      <th>2</th>\n",
       "      <td>1193</td>\n",
       "      <td>4</td>\n",
       "      <td>M</td>\n",
       "      <td>12</td>\n",
       "      <td>25</td>\n",
       "    </tr>\n",
       "    <tr>\n",
       "      <th>3</th>\n",
       "      <td>1193</td>\n",
       "      <td>4</td>\n",
       "      <td>M</td>\n",
       "      <td>7</td>\n",
       "      <td>25</td>\n",
       "    </tr>\n",
       "    <tr>\n",
       "      <th>4</th>\n",
       "      <td>1193</td>\n",
       "      <td>5</td>\n",
       "      <td>M</td>\n",
       "      <td>1</td>\n",
       "      <td>50</td>\n",
       "    </tr>\n",
       "    <tr>\n",
       "      <th>...</th>\n",
       "      <td>...</td>\n",
       "      <td>...</td>\n",
       "      <td>...</td>\n",
       "      <td>...</td>\n",
       "      <td>...</td>\n",
       "    </tr>\n",
       "    <tr>\n",
       "      <th>1000176</th>\n",
       "      <td>2198</td>\n",
       "      <td>5</td>\n",
       "      <td>M</td>\n",
       "      <td>17</td>\n",
       "      <td>1</td>\n",
       "    </tr>\n",
       "    <tr>\n",
       "      <th>1000177</th>\n",
       "      <td>2703</td>\n",
       "      <td>3</td>\n",
       "      <td>M</td>\n",
       "      <td>14</td>\n",
       "      <td>35</td>\n",
       "    </tr>\n",
       "    <tr>\n",
       "      <th>1000178</th>\n",
       "      <td>2845</td>\n",
       "      <td>1</td>\n",
       "      <td>M</td>\n",
       "      <td>17</td>\n",
       "      <td>18</td>\n",
       "    </tr>\n",
       "    <tr>\n",
       "      <th>1000179</th>\n",
       "      <td>3607</td>\n",
       "      <td>5</td>\n",
       "      <td>F</td>\n",
       "      <td>20</td>\n",
       "      <td>18</td>\n",
       "    </tr>\n",
       "    <tr>\n",
       "      <th>1000180</th>\n",
       "      <td>2909</td>\n",
       "      <td>4</td>\n",
       "      <td>M</td>\n",
       "      <td>1</td>\n",
       "      <td>25</td>\n",
       "    </tr>\n",
       "  </tbody>\n",
       "</table>\n",
       "<p>1000181 rows × 5 columns</p>\n",
       "</div>"
      ],
      "text/plain": [
       "         MovieID  Rating Gender  Occupation birthday\n",
       "0           1193       5      F          10        1\n",
       "1           1193       5      M          16       56\n",
       "2           1193       4      M          12       25\n",
       "3           1193       4      M           7       25\n",
       "4           1193       5      M           1       50\n",
       "...          ...     ...    ...         ...      ...\n",
       "1000176     2198       5      M          17        1\n",
       "1000177     2703       3      M          14       35\n",
       "1000178     2845       1      M          17       18\n",
       "1000179     3607       5      F          20       18\n",
       "1000180     2909       4      M           1       25\n",
       "\n",
       "[1000181 rows x 5 columns]"
      ]
     },
     "metadata": {},
     "output_type": "display_data"
    }
   ],
   "source": [
    "df = pd.merge(ratings,users)\n",
    "df = pd.merge(df,movies)\n",
    "df = df.drop(columns='UserID')\n",
    "display(df)"
   ]
  },
  {
   "cell_type": "markdown",
   "id": "38132c45",
   "metadata": {},
   "source": [
    "## Árvore de decisão"
   ]
  },
  {
   "cell_type": "markdown",
   "id": "8e4ef11b",
   "metadata": {},
   "source": [
    "### Cálculo da entropia"
   ]
  },
  {
   "cell_type": "code",
   "execution_count": 89,
   "id": "d97d9415",
   "metadata": {
    "scrolled": true
   },
   "outputs": [
    {
     "data": {
      "text/plain": [
       "2.1002336337757876"
      ]
     },
     "execution_count": 89,
     "metadata": {},
     "output_type": "execute_result"
    }
   ],
   "source": [
    "def entropy(df):\n",
    "    rating = df.columns[1]\n",
    "    values, counts = np.unique(df[rating], return_counts = True)\n",
    "    prob = counts/(counts.sum())\n",
    "    entropy = sum(-prob*np.log2(prob))\n",
    "    return entropy\n",
    "\n",
    "entropy(df)"
   ]
  },
  {
   "cell_type": "markdown",
   "id": "145e6553",
   "metadata": {},
   "source": [
    "### Cálculo do ganho de informação"
   ]
  },
  {
   "cell_type": "code",
   "execution_count": 90,
   "id": "d2c719b0",
   "metadata": {},
   "outputs": [],
   "source": [
    "def ganho_info(df, atributo):\n",
    "    values, counts = np.unique(df[atributo], return_counts=True)\n",
    "    prob = counts/counts.sum()\n",
    "    entropy2 = 0\n",
    "    for i in range(len(values)):\n",
    "        cases = df.loc[df[atributo] == values[i]]\n",
    "        entropy2 += counts[i]*entropy(cases)/counts.sum()\n",
    "    ganho = entropy(df) - entropy2\n",
    "    return ganho, atributo\n",
    "    \n",
    "        "
   ]
  },
  {
   "cell_type": "markdown",
   "id": "e8a9186c",
   "metadata": {},
   "source": [
    "### Escolha dos melhores atributos\n",
    "- Utilizando a função de ganho de informação, foi possível determinar a ordem da árvore de decisão\n",
    "- Assim, podemos perceber que a ordem de prioridade dos atributos foi: 'Occupation', 'birthday' e 'Gender'"
   ]
  },
  {
   "cell_type": "code",
   "execution_count": 91,
   "id": "eaaf1981",
   "metadata": {},
   "outputs": [],
   "source": [
    "def melhor_atributo(df):\n",
    "    order = []\n",
    "    for column in df.columns:\n",
    "        if(column != 'Rating' and column != 'MovieID'):\n",
    "#             print(ganho_info(df, column))\n",
    "            order.append(ganho_info(df, column))\n",
    "    order.sort(reverse=True)\n",
    "#     print(order)\n",
    "melhor_atributo(df)"
   ]
  },
  {
   "cell_type": "markdown",
   "id": "d544a197",
   "metadata": {},
   "source": [
    "## Algoritmo ID3\n",
    "\n",
    "- Utiliza dos atributos com melhor ganho de informação para ficarem acima na árvore\n",
    "- Caso não seja encontrado um caso em que tenha rating do filme para os atributos desejados, a classificação será a média truncada do filme"
   ]
  },
  {
   "cell_type": "code",
   "execution_count": 92,
   "id": "84a34e06",
   "metadata": {},
   "outputs": [
    {
     "data": {
      "text/plain": [
       "4"
      ]
     },
     "execution_count": 92,
     "metadata": {},
     "output_type": "execute_result"
    }
   ],
   "source": [
    "def ID3(df, id_movie, ocupacao, birthday, gender):\n",
    "    #Para apenas valores de id_movie:\n",
    "    valores = df.loc[df['MovieID']==id_movie]\n",
    "    #Caso não tenha uma classificação com todos os atributos desejados, a classificação será a média truncada da classificação do filme\n",
    "    classificacao = round(valores['Rating'].sum()/len(valores['Rating']))\n",
    "    valores = valores.loc[valores['Occupation']==ocupacao]\n",
    "    valores = valores.loc[valores['birthday']==birthday]\n",
    "    valores = valores.loc[valores['Gender']==gender]\n",
    "    if(len(valores)!=0):\n",
    "        classificacao = round(valores['Rating'].sum()/len(valores['Rating']))\n",
    "    return classificacao\n",
    "    \n",
    "ID3(df, 1193, 1, '25', 'M')"
   ]
  },
  {
   "cell_type": "markdown",
   "id": "d58948a1",
   "metadata": {},
   "source": [
    "## Classificação a priori - Média Truncada"
   ]
  },
  {
   "cell_type": "code",
   "execution_count": 93,
   "id": "8f96b5b8",
   "metadata": {},
   "outputs": [],
   "source": [
    "def media_truncada(df, id_movie):\n",
    "    valores=df.loc[df['MovieID']==id_movie]\n",
    "    media = round(valores['Rating'].sum()/len(valores['Rating']))\n",
    "#     print(media)\n",
    "    return media\n",
    "\n",
    "ids = np.unique(df['MovieID'])\n",
    "for i in ids:\n",
    "    media_truncada(df, i)"
   ]
  },
  {
   "cell_type": "markdown",
   "id": "cdb958af",
   "metadata": {},
   "source": [
    "## Análise Comparativa\n",
    "- Foram escolhidos os seguintes filmes com as classificações ditadas pelo grupo:\n",
    "    - MovieID:1 | Title: Toy Story (1995) | Classificação: 4\n",
    "    - MovieID:154 | Belle de jour (1967) | Classificação: 2\n",
    "    - MovieID:260 | Star Wars: Episode IV - A New Hope (1977) | Classificação: 5\n",
    "    - MovieID:255 | Jerky Boys, The (1994) | Classificação: 3\n",
    "    - MovieID:480 | Jurassic Park (1993) | Classificação: 3\n",
    "    - MovieID:520 | Robin Hood: Men in Tights (1993) | Classificação: 4\n",
    "    - MovieID:592 | Batman (1989) | Classificação: 4\n",
    "    - MovieID:1221 | Godfather: Part II, The (1974) | Classificação: 4\n",
    "    - MovieID:1240 | Terminator, The (1984) | Classificação: 5\n",
    "    - MovieID:3945 | Digimon: The Movie (2000) | Classificação: 5\n",
    "    "
   ]
  },
  {
   "cell_type": "markdown",
   "id": "0bd88b62",
   "metadata": {},
   "source": [
    "## 1: Classificador por ID3"
   ]
  },
  {
   "cell_type": "markdown",
   "id": "3a00d20f",
   "metadata": {},
   "source": [
    "### Taxa de Acerto"
   ]
  },
  {
   "cell_type": "code",
   "execution_count": 118,
   "id": "d45d0c11",
   "metadata": {},
   "outputs": [
    {
     "name": "stdout",
     "output_type": "stream",
     "text": [
      "0.4\n"
     ]
    }
   ],
   "source": [
    "acerto = []\n",
    "movies_ids = [1, 154, 260, 255, 480, 520, 592, 1221, 1240, 3945]\n",
    "classificacoes = [4, 2, 5, 3, 3, 4, 4, 4, 5, 5]\n",
    "# print(ID3(df, 1, 4, '18', 'M')\n",
    "# print(movies_ids)\n",
    "num_acertos = 0\n",
    "for i in range(10):\n",
    "    if(classificacoes[i]==ID3(df, movies_ids[i], 4, '18', 'M')):\n",
    "        num_acertos += 1\n",
    "        acerto.append(1)\n",
    "    else:\n",
    "        acerto.append(0)\n",
    "taxa_acerto_id3 = num_acertos/10\n",
    "print(taxa_acerto_id3)"
   ]
  },
  {
   "cell_type": "markdown",
   "id": "c266947b",
   "metadata": {},
   "source": [
    "### Erro Quadrático Médio"
   ]
  },
  {
   "cell_type": "code",
   "execution_count": 115,
   "id": "ccf4b17d",
   "metadata": {},
   "outputs": [
    {
     "name": "stdout",
     "output_type": "stream",
     "text": [
      "1.2\n"
     ]
    }
   ],
   "source": [
    "erro = []\n",
    "erro_total = 0\n",
    "for i in range(10):\n",
    "    erro_i = (classificacoes[i]-ID3(df, movies_ids[i], 4, '18', 'M'))^2\n",
    "    erro_total+=erro_i\n",
    "erro_quad_medio = erro_total/10\n",
    "print(erro_quad_medio)"
   ]
  },
  {
   "cell_type": "markdown",
   "id": "bc73a411",
   "metadata": {},
   "source": [
    "## 2: Classificador A priori"
   ]
  },
  {
   "cell_type": "markdown",
   "id": "a97043fe",
   "metadata": {},
   "source": [
    "### Taxa de Acerto"
   ]
  },
  {
   "cell_type": "code",
   "execution_count": 119,
   "id": "872a461a",
   "metadata": {},
   "outputs": [
    {
     "name": "stdout",
     "output_type": "stream",
     "text": [
      "0.3\n"
     ]
    }
   ],
   "source": [
    "acerto = []\n",
    "movies_ids = [1, 154, 260, 255, 480, 520, 592, 1221, 1240, 3945]\n",
    "classificacoes = [4, 2, 5, 3, 3, 4, 4, 4, 5, 5]\n",
    "num_acertos = 0\n",
    "for i in range(10):\n",
    "    if(classificacoes[i]==media_truncada(df, movies_ids[i])):\n",
    "        num_acertos += 1\n",
    "        acerto.append(1)\n",
    "    else:\n",
    "        acerto.append(0)\n",
    "taxa_acerto_priori = num_acertos/10\n",
    "print(taxa_acerto_priori)"
   ]
  },
  {
   "cell_type": "markdown",
   "id": "0a243255",
   "metadata": {},
   "source": [
    "### Erro Quadrático Médio"
   ]
  },
  {
   "cell_type": "code",
   "execution_count": 116,
   "id": "18617f3f",
   "metadata": {},
   "outputs": [
    {
     "name": "stdout",
     "output_type": "stream",
     "text": [
      "1.7\n"
     ]
    }
   ],
   "source": [
    "erro = []\n",
    "erro_total = 0\n",
    "for i in range(10):\n",
    "    erro_i = (classificacoes[i]-media_truncada(df, movies_ids[i]))^2\n",
    "    erro_total+=erro_i\n",
    "erro_quad_medio = erro_total/10\n",
    "print(erro_quad_medio)"
   ]
  },
  {
   "cell_type": "markdown",
   "id": "f5263af5",
   "metadata": {},
   "source": [
    "## Estatística Kappa"
   ]
  },
  {
   "cell_type": "code",
   "execution_count": 120,
   "id": "14786afb",
   "metadata": {},
   "outputs": [
    {
     "name": "stdout",
     "output_type": "stream",
     "text": [
      "0.1428571428571429\n"
     ]
    }
   ],
   "source": [
    "Kappa = (taxa_acerto_id3 - taxa_acerto_priori)/(1-taxa_acerto_priori)\n",
    "print(Kappa)"
   ]
  },
  {
   "cell_type": "markdown",
   "id": "0cd93b7d",
   "metadata": {},
   "source": [
    "## Conclusão\n",
    "\n",
    "O trabalho solicitado foi bastante condizente com a teoria apresentada em sala de aula, propiciando a aplicação dos conceitos teóricos básicos, essenciais para o desenvolvimento da matéira de ciência de dados.\n",
    "A execução do trabalho foi complexa, não pela dificuldade de entender o embasamento teórico que permeia os conceitos aplicados, mas sim pela dificuldade de aplicar os algoritmos necessários na linguagem computacional.\n",
    "O grupo gestaria de deixar como sugestão desenvolver, seja em sala de aula, por meio de vídeo-aulas, ou ainda por meio de materiais escritos no google classroom, a parte prática da disciplina, mostrando como aplicar os conceitos na linguagem computacional, conforme é exigido nas práticas de laboratório."
   ]
  },
  {
   "cell_type": "markdown",
   "id": "169469a0",
   "metadata": {},
   "source": [
    "## Implementação\n",
    "\n",
    "A implementação do trabalho foi realizada em python e a IDE utilizada foi o Jupyter Notebook."
   ]
  },
  {
   "cell_type": "code",
   "execution_count": null,
   "id": "3a357868",
   "metadata": {},
   "outputs": [],
   "source": []
  }
 ],
 "metadata": {
  "kernelspec": {
   "display_name": "Python 3 (ipykernel)",
   "language": "python",
   "name": "python3"
  },
  "language_info": {
   "codemirror_mode": {
    "name": "ipython",
    "version": 3
   },
   "file_extension": ".py",
   "mimetype": "text/x-python",
   "name": "python",
   "nbconvert_exporter": "python",
   "pygments_lexer": "ipython3",
   "version": "3.9.7"
  }
 },
 "nbformat": 4,
 "nbformat_minor": 5
}
