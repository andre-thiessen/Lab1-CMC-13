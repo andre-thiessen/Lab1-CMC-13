{
 "cells": [
  {
   "cell_type": "markdown",
   "id": "8507236e",
   "metadata": {},
   "source": [
    "# Projeto Aprendizado de Máquina\n",
    "\n",
    "## CMC-13 Introdução a Ciência de Dados\n",
    "## Equipe:\n",
    "### André Luiz de Melo Thiessen\n",
    "### Nikollas da Silva Antes\n",
    "### Pedro Anacleto Martins Senna de Oliveira"
   ]
  },
  {
   "cell_type": "markdown",
   "id": "bc638415",
   "metadata": {},
   "source": [
    "## Importando bibliotecas"
   ]
  },
  {
   "cell_type": "code",
   "execution_count": 232,
   "id": "9ab1cb93",
   "metadata": {},
   "outputs": [],
   "source": [
    "#Importando as bibliotecas necessárias\n",
    "import pandas as pd\n",
    "import numpy as np\n",
    "from datetime import datetime\n",
    "from datetime import date"
   ]
  },
  {
   "cell_type": "markdown",
   "id": "4ac7164d",
   "metadata": {},
   "source": [
    "## Importando os datasets"
   ]
  },
  {
   "cell_type": "code",
   "execution_count": 233,
   "id": "9e5bc345",
   "metadata": {},
   "outputs": [],
   "source": [
    "#Importando as bases de dados\n",
    "movies = pd.read_csv(\"movies.csv\", on_bad_lines='skip', sep = ';')\n",
    "ratings = pd.read_csv(\"ratings.csv\", sep = ';')\n",
    "users = pd.read_csv(\"users.csv\")"
   ]
  },
  {
   "cell_type": "markdown",
   "id": "4586560b",
   "metadata": {},
   "source": [
    "## Data Cleaning\n",
    "- Primeiramente, foi verificado a existência de valores nulos (dados faltantes)"
   ]
  },
  {
   "cell_type": "code",
   "execution_count": 234,
   "id": "40a0648a",
   "metadata": {},
   "outputs": [
    {
     "name": "stdout",
     "output_type": "stream",
     "text": [
      "False\n",
      "False\n",
      "False\n"
     ]
    }
   ],
   "source": [
    "# Verificando a existência de valores nulos (dados faltantes)\n",
    "print(movies.isnull().values.any())\n",
    "print(ratings.isnull().values.any())\n",
    "print(users.isnull().values.any())"
   ]
  },
  {
   "cell_type": "markdown",
   "id": "3cc0ed7a",
   "metadata": {},
   "source": [
    "- Depois foram apagadas as colunas que julgou-se impertinentes para o aprendizado em questão\n",
    "    - Title, Timestamp, Zip-code e name: irrelevantes\n",
    "    - Genres dos movies: Deixaria a árvore muito grande, optamos por retirar tal atributo"
   ]
  },
  {
   "cell_type": "code",
   "execution_count": 235,
   "id": "ca0e0f76",
   "metadata": {},
   "outputs": [],
   "source": [
    "#Apagando as colunas irrelevantes\n",
    "movies = movies.drop(columns='Title')\n",
    "ratings = ratings.drop(columns='Timestamp')\n",
    "users = users.drop(columns='Zip-code')\n",
    "users = users.drop(columns='name')\n",
    "movies = movies.drop(columns='Genres')"
   ]
  },
  {
   "cell_type": "markdown",
   "id": "d95ee571",
   "metadata": {},
   "source": [
    "## Transformações de Dados\n",
    "\n",
    "- Foi alterado a data de nascimento (birthday) para o padrão proposto no lab, agrupando em idades"
   ]
  },
  {
   "cell_type": "code",
   "execution_count": 236,
   "id": "70487a3d",
   "metadata": {},
   "outputs": [],
   "source": [
    "format_string = \"%m/%d/%Y\"\n",
    "def calculateAge(birthDate): \n",
    "    today = date.today() \n",
    "    age = today.year - birthDate.year - ((today.month, today.day) < (birthDate.month, birthDate.day))\n",
    "    return age\n",
    "\n",
    "for i in users.index:\n",
    "    [month, day, year] = users['birthday'][i].split('/')\n",
    "    if(day == '0'):\n",
    "        users.loc[i, 'birthday'] = month+'/'+'1/'+year\n",
    "    date = datetime.strptime(users['birthday'][i], format_string)\n",
    "    age = calculateAge(date)\n",
    "    users.loc[i, 'birthday'] = age\n",
    "    \n",
    "    #Agrupando os usuários em \n",
    "for i in users.index:\n",
    "    if(int(users['birthday'][i])<18):\n",
    "        users.loc[i, 'birthday'] = '1'\n",
    "    elif (int(users['birthday'][i])<24):\n",
    "        users.loc[i, 'birthday'] = '18'\n",
    "    elif (int(users['birthday'][i])<35):\n",
    "        users.loc[i, 'birthday'] = '25'\n",
    "    elif (int(users['birthday'][i])<45):\n",
    "        users.loc[i, 'birthday'] = '35'\n",
    "    elif (int(users['birthday'][i])<50):\n",
    "        users.loc[i, 'birthday'] = '45'\n",
    "    elif (int(users['birthday'][i])<55):\n",
    "        users.loc[i, 'birthday'] = '50'\n",
    "    else:\n",
    "        users.loc[i, 'birthday'] = '56'\n"
   ]
  },
  {
   "cell_type": "markdown",
   "id": "7cc0d577",
   "metadata": {},
   "source": [
    "- Além disso, fez-se um merge das tabelas para facilitar o trabalho futuro\n",
    "- Nomeou-se o novo dataframe de df"
   ]
  },
  {
   "cell_type": "code",
   "execution_count": 237,
   "id": "192947d9",
   "metadata": {},
   "outputs": [
    {
     "data": {
      "text/html": [
       "<div>\n",
       "<style scoped>\n",
       "    .dataframe tbody tr th:only-of-type {\n",
       "        vertical-align: middle;\n",
       "    }\n",
       "\n",
       "    .dataframe tbody tr th {\n",
       "        vertical-align: top;\n",
       "    }\n",
       "\n",
       "    .dataframe thead th {\n",
       "        text-align: right;\n",
       "    }\n",
       "</style>\n",
       "<table border=\"1\" class=\"dataframe\">\n",
       "  <thead>\n",
       "    <tr style=\"text-align: right;\">\n",
       "      <th></th>\n",
       "      <th>MovieID</th>\n",
       "      <th>Rating</th>\n",
       "      <th>Gender</th>\n",
       "      <th>Occupation</th>\n",
       "      <th>birthday</th>\n",
       "    </tr>\n",
       "  </thead>\n",
       "  <tbody>\n",
       "    <tr>\n",
       "      <th>0</th>\n",
       "      <td>1193</td>\n",
       "      <td>5</td>\n",
       "      <td>F</td>\n",
       "      <td>10</td>\n",
       "      <td>1</td>\n",
       "    </tr>\n",
       "    <tr>\n",
       "      <th>1</th>\n",
       "      <td>1193</td>\n",
       "      <td>5</td>\n",
       "      <td>M</td>\n",
       "      <td>16</td>\n",
       "      <td>56</td>\n",
       "    </tr>\n",
       "    <tr>\n",
       "      <th>2</th>\n",
       "      <td>1193</td>\n",
       "      <td>4</td>\n",
       "      <td>M</td>\n",
       "      <td>12</td>\n",
       "      <td>25</td>\n",
       "    </tr>\n",
       "    <tr>\n",
       "      <th>3</th>\n",
       "      <td>1193</td>\n",
       "      <td>4</td>\n",
       "      <td>M</td>\n",
       "      <td>7</td>\n",
       "      <td>25</td>\n",
       "    </tr>\n",
       "    <tr>\n",
       "      <th>4</th>\n",
       "      <td>1193</td>\n",
       "      <td>5</td>\n",
       "      <td>M</td>\n",
       "      <td>1</td>\n",
       "      <td>50</td>\n",
       "    </tr>\n",
       "    <tr>\n",
       "      <th>...</th>\n",
       "      <td>...</td>\n",
       "      <td>...</td>\n",
       "      <td>...</td>\n",
       "      <td>...</td>\n",
       "      <td>...</td>\n",
       "    </tr>\n",
       "    <tr>\n",
       "      <th>1000176</th>\n",
       "      <td>2198</td>\n",
       "      <td>5</td>\n",
       "      <td>M</td>\n",
       "      <td>17</td>\n",
       "      <td>1</td>\n",
       "    </tr>\n",
       "    <tr>\n",
       "      <th>1000177</th>\n",
       "      <td>2703</td>\n",
       "      <td>3</td>\n",
       "      <td>M</td>\n",
       "      <td>14</td>\n",
       "      <td>35</td>\n",
       "    </tr>\n",
       "    <tr>\n",
       "      <th>1000178</th>\n",
       "      <td>2845</td>\n",
       "      <td>1</td>\n",
       "      <td>M</td>\n",
       "      <td>17</td>\n",
       "      <td>18</td>\n",
       "    </tr>\n",
       "    <tr>\n",
       "      <th>1000179</th>\n",
       "      <td>3607</td>\n",
       "      <td>5</td>\n",
       "      <td>F</td>\n",
       "      <td>20</td>\n",
       "      <td>18</td>\n",
       "    </tr>\n",
       "    <tr>\n",
       "      <th>1000180</th>\n",
       "      <td>2909</td>\n",
       "      <td>4</td>\n",
       "      <td>M</td>\n",
       "      <td>1</td>\n",
       "      <td>25</td>\n",
       "    </tr>\n",
       "  </tbody>\n",
       "</table>\n",
       "<p>1000181 rows × 5 columns</p>\n",
       "</div>"
      ],
      "text/plain": [
       "         MovieID  Rating Gender  Occupation birthday\n",
       "0           1193       5      F          10        1\n",
       "1           1193       5      M          16       56\n",
       "2           1193       4      M          12       25\n",
       "3           1193       4      M           7       25\n",
       "4           1193       5      M           1       50\n",
       "...          ...     ...    ...         ...      ...\n",
       "1000176     2198       5      M          17        1\n",
       "1000177     2703       3      M          14       35\n",
       "1000178     2845       1      M          17       18\n",
       "1000179     3607       5      F          20       18\n",
       "1000180     2909       4      M           1       25\n",
       "\n",
       "[1000181 rows x 5 columns]"
      ]
     },
     "metadata": {},
     "output_type": "display_data"
    }
   ],
   "source": [
    "df = pd.merge(ratings,users)\n",
    "df = pd.merge(df,movies)\n",
    "df = df.drop(columns='UserID')\n",
    "display(df)"
   ]
  },
  {
   "cell_type": "markdown",
   "id": "c9b2b073",
   "metadata": {},
   "source": [
    "## Árvore de decisão"
   ]
  },
  {
   "cell_type": "markdown",
   "id": "536593f7",
   "metadata": {},
   "source": [
    "### Cálculo da entropia"
   ]
  },
  {
   "cell_type": "code",
   "execution_count": 238,
   "id": "8186805a",
   "metadata": {
    "scrolled": true
   },
   "outputs": [
    {
     "data": {
      "text/plain": [
       "2.1002336337757876"
      ]
     },
     "execution_count": 238,
     "metadata": {},
     "output_type": "execute_result"
    }
   ],
   "source": [
    "def entropy(df):\n",
    "    rating = df.columns[1]\n",
    "    values, counts = np.unique(df[rating], return_counts = True)\n",
    "    prob = counts/(counts.sum())\n",
    "    entropy = sum(-prob*np.log2(prob))\n",
    "    return entropy\n",
    "\n",
    "entropy(df)"
   ]
  },
  {
   "cell_type": "markdown",
   "id": "09fdf8f9",
   "metadata": {},
   "source": [
    "### Cálculo do ganho de informação"
   ]
  },
  {
   "cell_type": "code",
   "execution_count": 259,
   "id": "544ea5e5",
   "metadata": {},
   "outputs": [
    {
     "data": {
      "text/plain": [
       "(0.0036821434675720077, 'birthday')"
      ]
     },
     "execution_count": 259,
     "metadata": {},
     "output_type": "execute_result"
    }
   ],
   "source": [
    "def ganho_info(df, atributo):\n",
    "    values, counts = np.unique(df[atributo], return_counts=True)\n",
    "    prob = counts/counts.sum()\n",
    "    entropy2 = 0\n",
    "    for i in range(len(values)):\n",
    "        cases = df.loc[df[atributo] == values[i]]\n",
    "        entropy2 += counts[i]*entropy(cases)/counts.sum()\n",
    "    ganho = entropy(df) - entropy2\n",
    "#     print(ganho)\n",
    "    return ganho, atributo\n",
    "    \n",
    "ganho_info(df, 'birthday')\n",
    "        "
   ]
  },
  {
   "cell_type": "markdown",
   "id": "b6ee7467",
   "metadata": {},
   "source": [
    "### Escolha dos melhores atributos"
   ]
  },
  {
   "cell_type": "code",
   "execution_count": 260,
   "id": "15fa6904",
   "metadata": {},
   "outputs": [
    {
     "name": "stdout",
     "output_type": "stream",
     "text": [
      "[(0.0038236898645949147, 'Occupation'), (0.0036821434675720077, 'birthday'), (0.0003299270469576676, 'Gender')]\n"
     ]
    }
   ],
   "source": [
    "def melhor_atributo(df):\n",
    "    order = []\n",
    "    for column in df.columns:\n",
    "        if(column != 'Rating' and column != 'MovieID'):\n",
    "#             print(ganho_info(df, column))\n",
    "            order.append(ganho_info(df, column))\n",
    "    order.sort(reverse=True)\n",
    "    print(order)\n",
    "    \n",
    "melhor_atributo(df)"
   ]
  },
  {
   "cell_type": "markdown",
   "id": "3d9ab427",
   "metadata": {},
   "source": [
    "## Algoritmo ID3\n",
    "\n",
    "- Utiliza dos atributos com melhor ganho de informação para ficarem acima na árvore"
   ]
  },
  {
   "cell_type": "code",
   "execution_count": null,
   "id": "6cee8de3",
   "metadata": {},
   "outputs": [],
   "source": []
  },
  {
   "cell_type": "markdown",
   "id": "76c846e4",
   "metadata": {},
   "source": [
    "## Média Truncada"
   ]
  },
  {
   "cell_type": "code",
   "execution_count": 241,
   "id": "d399487e",
   "metadata": {},
   "outputs": [
    {
     "name": "stdout",
     "output_type": "stream",
     "text": [
      "A média truncada é: 4\n"
     ]
    }
   ],
   "source": [
    "#Cálculo da Média truncada\n",
    "i = 0\n",
    "soma = 0\n",
    "while i < len(ratings):\n",
    "    soma =ratings.Rating[i] + soma\n",
    "    i = i + 1\n",
    "#Calcula a média das classficações sem considerar nenhum outro fator externo\n",
    "Média = soma/len(ratings)\n",
    "#Arredonda para o valor inteiro mais próximo para condizer com os tipos de classificações do filme\n",
    "truncada = round(Média)\n",
    "\n",
    "print(\"A média truncada é:\",truncada)"
   ]
  },
  {
   "cell_type": "markdown",
   "id": "8a630e2f",
   "metadata": {},
   "source": [
    "## Conclusão\n",
    "\n",
    "O trabalho solicitado foi bastante condizente com a teoria apresentada em sala de aula, propiciando a aplicação dos conceitos teóricos básicos, essenciais para o desenvolvimento da matéira de ciência de dados.\n",
    "A execução do trabalho foi complexa, não pela dificuldade de entender o embasamento teórico que permeia os conceitos aplicados, mas sim pela dificuldade de aplicar os algoritmos necessários na linguagem computacional.\n",
    "O grupo gestaria de deixar como sugestão desenvolver, seja em sala de aula, por meio de vídeo-aulas, ou ainda por meio de materiais escritos no google classroom, a parte prática da disciplina, mostrando como aplicar os conceitos na linguagem computacional, conforme é exigido nas práticas de laboratório."
   ]
  },
  {
   "cell_type": "markdown",
   "id": "4aa924b3",
   "metadata": {},
   "source": [
    "## Implementação\n",
    "\n",
    "A implementação do trabalho foi realizada em python e a IDE utilizada foi o Jupyter Notebook."
   ]
  },
  {
   "cell_type": "code",
   "execution_count": null,
   "id": "b423a1d6",
   "metadata": {},
   "outputs": [],
   "source": []
  }
 ],
 "metadata": {
  "kernelspec": {
   "display_name": "Python 3 (ipykernel)",
   "language": "python",
   "name": "python3"
  },
  "language_info": {
   "codemirror_mode": {
    "name": "ipython",
    "version": 3
   },
   "file_extension": ".py",
   "mimetype": "text/x-python",
   "name": "python",
   "nbconvert_exporter": "python",
   "pygments_lexer": "ipython3",
   "version": "3.9.7"
  }
 },
 "nbformat": 4,
 "nbformat_minor": 5
}
